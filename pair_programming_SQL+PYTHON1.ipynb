{
 "cells": [
  {
   "cell_type": "code",
   "execution_count": 1,
   "metadata": {},
   "outputs": [
    {
     "name": "stdout",
     "output_type": "stream",
     "text": [
      "Requirement already satisfied: mysql-connector in c:\\users\\anane\\appdata\\local\\programs\\python\\python311\\lib\\site-packages (2.2.9)\n",
      "Note: you may need to restart the kernel to use updated packages.\n"
     ]
    },
    {
     "name": "stderr",
     "output_type": "stream",
     "text": [
      "\n",
      "[notice] A new release of pip available: 22.3.1 -> 23.1.2\n",
      "[notice] To update, run: python.exe -m pip install --upgrade pip\n"
     ]
    }
   ],
   "source": [
    "#EJERCICIO  = ¿Qué BBDD tenemos en nuestro servidor?\n",
    "\n",
    "%pip install mysql-connector \n"
   ]
  },
  {
   "cell_type": "code",
   "execution_count": 2,
   "metadata": {},
   "outputs": [],
   "source": [
    "import mysql.connector "
   ]
  },
  {
   "cell_type": "code",
   "execution_count": 3,
   "metadata": {},
   "outputs": [
    {
     "name": "stdout",
     "output_type": "stream",
     "text": [
      "('information_schema',)\n",
      "('leccion-1-sql',)\n",
      "('leccion-10-sql',)\n",
      "('leccion-11-sql',)\n",
      "('leccion-12-sql',)\n",
      "('leccion-13-sql',)\n",
      "('leccion-14-sql',)\n",
      "('leccion-2-sql',)\n",
      "('leccion-3-sql',)\n",
      "('leccion-4-sql',)\n",
      "('leccion-5-sql',)\n",
      "('leccion-6-sql',)\n",
      "('leccion-7-sql',)\n",
      "('leccion-8-sql',)\n",
      "('leccion-9-sql',)\n",
      "('mysql',)\n",
      "('nba_bbdd',)\n",
      "('northwind',)\n",
      "('performance_schema',)\n",
      "('sakila',)\n",
      "('sys',)\n",
      "('tienda',)\n",
      "('world',)\n"
     ]
    }
   ],
   "source": [
    "mydb = mysql.connector.connect(\n",
    "                  user='root', password='AlumnaAdalab',\n",
    "                  host='127.0.0.1',\n",
    "                  database='northwind')\n",
    "\n",
    "mycursor = mydb.cursor()\n",
    "\n",
    "mycursor.execute(\"SHOW DATABASES\")\n",
    "\n",
    "for x in mycursor:\n",
    "  print(x)"
   ]
  },
  {
   "cell_type": "code",
   "execution_count": 5,
   "metadata": {},
   "outputs": [
    {
     "name": "stdout",
     "output_type": "stream",
     "text": [
      "('categories',)\n",
      "('customer_customer_demo',)\n",
      "('customer_demographics',)\n",
      "('customers',)\n",
      "('employee_territories',)\n",
      "('employees',)\n",
      "('order_details',)\n",
      "('orders',)\n",
      "('products',)\n",
      "('region',)\n",
      "('shippers',)\n",
      "('suppliers',)\n",
      "('territories',)\n"
     ]
    }
   ],
   "source": [
    "#EJERCICIO 2\n",
    "\n",
    "mydb = mysql.connector.connect(\n",
    "                  user='root', password='AlumnaAdalab',\n",
    "                  host='127.0.0.1',\n",
    "                  database='northwind')\n",
    "\n",
    "mycursor = mydb.cursor()\n",
    "\n",
    "mycursor.execute(\"SHOW TABLES\")\n",
    "\n",
    "for x in mycursor:\n",
    "  print(x)"
   ]
  },
  {
   "cell_type": "code",
   "execution_count": 6,
   "metadata": {},
   "outputs": [
    {
     "name": "stdout",
     "output_type": "stream",
     "text": [
      "Tabla: categories\n",
      " - category_id\n",
      " - category_name\n",
      " - description\n",
      " - picture\n",
      "\n",
      "Tabla: customer_customer_demo\n",
      " - customer_id\n",
      " - customertype_id\n",
      "\n",
      "Tabla: customer_demographics\n",
      " - customer_type_id\n",
      " - customer_desc\n",
      "\n",
      "Tabla: customers\n",
      " - customer_id\n",
      " - company_name\n",
      " - contact_name\n",
      " - contact_title\n",
      " - address\n",
      " - city\n",
      " - region\n",
      " - postal_code\n",
      " - country\n",
      " - phone\n",
      " - fax\n",
      "\n",
      "Tabla: employee_territories\n",
      " - employee_id\n",
      " - territory_id\n",
      "\n",
      "Tabla: employees\n",
      " - employee_id\n",
      " - last_name\n",
      " - first_name\n",
      " - title\n",
      " - title_of_courtesy\n",
      " - birth_date\n",
      " - hire_date\n",
      " - address\n",
      " - city\n",
      " - region\n",
      " - postal_code\n",
      " - country\n",
      " - home_phone\n",
      " - extension\n",
      " - photo\n",
      " - notes\n",
      " - reports_to\n",
      " - photo_path\n",
      "\n",
      "Tabla: order_details\n",
      " - order_id\n",
      " - product_id\n",
      " - unit_price\n",
      " - quantity\n",
      " - discount\n",
      "\n",
      "Tabla: orders\n",
      " - order_id\n",
      " - customer_id\n",
      " - employee_id\n",
      " - order_date\n",
      " - required_date\n",
      " - shipped_date\n",
      " - ship_via\n",
      " - freight\n",
      " - ship_name\n",
      " - ship_address\n",
      " - ship_city\n",
      " - ship_region\n",
      " - ship_postal_code\n",
      " - ship_country\n",
      "\n",
      "Tabla: products\n",
      " - product_id\n",
      " - product_name\n",
      " - supplier_id\n",
      " - category_id\n",
      " - quantity_per_unit\n",
      " - unit_price\n",
      " - units_in_stock\n",
      " - units_on_order\n",
      " - reorder_level\n",
      " - discontinued\n",
      "\n",
      "Tabla: region\n",
      " - region_id\n",
      " - region_description\n",
      "\n",
      "Tabla: shippers\n",
      " - shipper_id\n",
      " - company_name\n",
      " - phone\n",
      "\n",
      "Tabla: suppliers\n",
      " - supplier_id\n",
      " - company_name\n",
      " - contact_name\n",
      " - contact_title\n",
      " - adress\n",
      " - city\n",
      " - region\n",
      " - postal_code\n",
      " - country\n",
      " - phone\n",
      " - fax\n",
      " - home_page\n",
      "\n",
      "Tabla: territories\n",
      " - territory_id\n",
      " - territory_description\n",
      " - region_id\n",
      "\n"
     ]
    }
   ],
   "source": [
    "##EJERCICIO 3 = ¿Qué columnas tiene cada una de las tablas? \n",
    "#Para esto tendréis que hacer un for looP\n",
    "\n",
    "\n",
    "mydb = mysql.connector.connect(\n",
    "                  user='root', password='AlumnaAdalab',\n",
    "                  host='127.0.0.1',\n",
    "                  database='northwind')\n",
    "\n",
    "mycursor = mydb.cursor()\n",
    "\n",
    "mycursor.execute(\"SHOW TABLES\")\n",
    "tablas = mycursor.fetchall()\n",
    "\n",
    "# Iterar sobre las tablas\n",
    "for tabla in tablas:\n",
    "    nombre_tabla = tabla[0]\n",
    "    print(f\"Tabla: {nombre_tabla}\")\n",
    "\n",
    "    # Obtener las columnas de la tabla\n",
    "    mycursor.execute(f\"DESCRIBE {nombre_tabla}\")\n",
    "    columnas = mycursor.fetchall()\n",
    "\n",
    "    # Imprimir las columnas\n",
    "    for columna in columnas:\n",
    "        nombre_columna = columna[0]\n",
    "        print(f\" - {nombre_columna}\")\n",
    "\n",
    "    print()\n",
    "\n",
    "for x in mycursor:\n",
    "  print(x)\n",
    "\n",
    "\n",
    "\n"
   ]
  },
  {
   "cell_type": "code",
   "execution_count": 7,
   "metadata": {},
   "outputs": [],
   "source": [
    "#EJERCICIO 5 = Cerrad conexión con el servidor\n",
    "\n",
    "mycursor.close()\n",
    "mydb.close()"
   ]
  },
  {
   "cell_type": "code",
   "execution_count": null,
   "metadata": {},
   "outputs": [],
   "source": []
  },
  {
   "cell_type": "code",
   "execution_count": null,
   "metadata": {},
   "outputs": [],
   "source": []
  },
  {
   "cell_type": "code",
   "execution_count": null,
   "metadata": {},
   "outputs": [],
   "source": []
  }
 ],
 "metadata": {
  "kernelspec": {
   "display_name": "Python 3",
   "language": "python",
   "name": "python3"
  },
  "language_info": {
   "codemirror_mode": {
    "name": "ipython",
    "version": 3
   },
   "file_extension": ".py",
   "mimetype": "text/x-python",
   "name": "python",
   "nbconvert_exporter": "python",
   "pygments_lexer": "ipython3",
   "version": "3.11.3"
  },
  "orig_nbformat": 4
 },
 "nbformat": 4,
 "nbformat_minor": 2
}
