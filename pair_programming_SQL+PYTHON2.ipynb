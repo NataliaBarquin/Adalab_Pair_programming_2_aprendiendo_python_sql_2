{
 "cells": [
  {
   "cell_type": "code",
   "execution_count": 11,
   "metadata": {},
   "outputs": [],
   "source": [
    "#ejercicio 1 .Crear bbdd mi_primerita_BBDD_python.\n",
    "# Hay que crear una funcion que nos sirva para crear tablas independientemente del contenido de la tabla.\n",
    "# parametros para la funcion: contraseña de la cnx al servidor, query para crear la tabla\n",
    "\n",
    "import mysql.connector\n",
    "\n",
    "def crear_tabla(password,query):\n",
    "    cnx = mysql.connector.connect(user='root', password = password,\n",
    "                              auth_plugin='mysql_native_password',\n",
    "                              host='127.0.0.1',\n",
    "                              database = 'mi_primerita_BBDD_python')\n",
    "\n",
    "\n",
    "    mycursor = cnx.cursor()\n",
    "   \n",
    "    try:\n",
    "        mycursor.execute(query)\n",
    "        print(mycursor)\n",
    "    except mysql.connector.Error as err:\n",
    "        print(err)\n",
    "        print(\"Error Code:\", err.errno)\n",
    "        print(\"SQLSTATE\", err.sqlstate)\n",
    "        print(\"Message\", err.msg)\n",
    "\n"
   ]
  },
  {
   "cell_type": "code",
   "execution_count": 23,
   "metadata": {},
   "outputs": [],
   "source": [
    "\n",
    "query_zapatillas = \"\"\"CREATE TABLE zapatillas (\n",
    "                                    id_zapatillas INT AUTO_INCREMENT NOT NULL PRIMARY KEY,\n",
    "                                    modelo VARCHAR(45) NOT NULL,\n",
    "                                    color VARCHAR(45) NOT NULL,\n",
    "                                    talla INT NOT NULL\n",
    "                                                );\"\"\"\n",
    "                                         "
   ]
  },
  {
   "cell_type": "code",
   "execution_count": 25,
   "metadata": {},
   "outputs": [],
   "source": [
    "query_clientes = \"\"\"CREATE TABLE clientes (\n",
    "                                    id_cliente INT AUTO_INCREMENT NOT NULL PRIMARY KEY,\n",
    "                                    nombre VARCHAR(45)NOT NULL,\n",
    "                                    numero_telefono INT(9)NOT NULL,\n",
    "                                    email varchar(45)NOT NULL,\n",
    "                                    direccion VARCHAR(45)NOT NULL,\n",
    "                                    ciudad VARCHAR(45),\n",
    "                                    provincia VARCHAR(45)NOT NULL,\n",
    "                                    pais VARCHAR(45)NOT NULL,\n",
    "                                    codigo_postal INT (9)NOT NULL);\"\"\""
   ]
  },
  {
   "cell_type": "code",
   "execution_count": 31,
   "metadata": {},
   "outputs": [],
   "source": [
    "query_empleados = \"\"\"CREATE TABLE empleados (\n",
    "                                    id_empleado INT AUTO_INCREMENT NOT NULL PRIMARY KEY,\n",
    "                                    nombre VARCHAR(45) NOT NULL,\n",
    "                                    tienda VARCHAR(45) NOT NULL,\n",
    "                                    salario FLOAT,\n",
    "                                    fecha_incorporacion DATE NOT NULL);\"\"\""
   ]
  },
  {
   "cell_type": "code",
   "execution_count": 36,
   "metadata": {},
   "outputs": [],
   "source": [
    "query_facturas = \"\"\"CREATE TABLE facturas(\n",
    "                                    id_factura INT AUTO_INCREMENT NOT NULL PRIMARY KEY,\n",
    "                                    id_empleado INT NOT NULL,\n",
    "                                    id_cliente INT NOT NULL,\n",
    "                                    id_zapatillas INT NOT NULL,\n",
    "                                    fecha DATE NOT NULL,\n",
    "                                    total FLOAT NOT NULL,\n",
    "                                                CONSTRAINT fk_facturas_zapatillas\n",
    "                                                    FOREIGN KEY(id_zapatillas)\n",
    "                                                    REFERENCES zapatillas(id_zapatillas),\n",
    "                                                CONSTRAINT fk_facturas_clientes\n",
    "                                                    FOREIGN KEY(id_cliente)\n",
    "                                                    REFERENCES clientes(id_cliente),\n",
    "                                                CONSTRAINT fk_facturas_empleados\n",
    "                                                    FOREIGN KEY(id_empleado)\n",
    "                                                    REFERENCES empleados(id_empleado));\"\"\""
   ]
  },
  {
   "cell_type": "code",
   "execution_count": 32,
   "metadata": {},
   "outputs": [
    {
     "name": "stdout",
     "output_type": "stream",
     "text": [
      "CMySQLCursor: CREATE TABLE zapatillas (\n",
      "              ..\n"
     ]
    }
   ],
   "source": [
    "import mysql.connector\n",
    "crear_tabla('AlumnaAdalab',query_zapatillas)"
   ]
  },
  {
   "cell_type": "code",
   "execution_count": 33,
   "metadata": {},
   "outputs": [
    {
     "name": "stdout",
     "output_type": "stream",
     "text": [
      "1050 (42S01): Table 'clientes' already exists\n",
      "Error Code: 1050\n",
      "SQLSTATE 42S01\n",
      "Message Table 'clientes' already exists\n"
     ]
    }
   ],
   "source": [
    "import mysql.connector\n",
    "crear_tabla('AlumnaAdalab',query_clientes)"
   ]
  },
  {
   "cell_type": "code",
   "execution_count": 34,
   "metadata": {},
   "outputs": [
    {
     "name": "stdout",
     "output_type": "stream",
     "text": [
      "CMySQLCursor: CREATE TABLE empleados (\n",
      "               ..\n"
     ]
    }
   ],
   "source": [
    "import mysql.connector\n",
    "crear_tabla('AlumnaAdalab', query_empleados)"
   ]
  },
  {
   "cell_type": "code",
   "execution_count": 37,
   "metadata": {},
   "outputs": [
    {
     "name": "stdout",
     "output_type": "stream",
     "text": [
      "CMySQLCursor: CREATE TABLE facturas(\n",
      "                 ..\n"
     ]
    }
   ],
   "source": [
    "import mysql.connector\n",
    "crear_tabla('AlumnaAdalab',query_facturas)"
   ]
  }
 ],
 "metadata": {
  "kernelspec": {
   "display_name": "base",
   "language": "python",
   "name": "python3"
  },
  "language_info": {
   "codemirror_mode": {
    "name": "ipython",
    "version": 3
   },
   "file_extension": ".py",
   "mimetype": "text/x-python",
   "name": "python",
   "nbconvert_exporter": "python",
   "pygments_lexer": "ipython3",
   "version": "3.9.7"
  },
  "orig_nbformat": 4
 },
 "nbformat": 4,
 "nbformat_minor": 2
}
