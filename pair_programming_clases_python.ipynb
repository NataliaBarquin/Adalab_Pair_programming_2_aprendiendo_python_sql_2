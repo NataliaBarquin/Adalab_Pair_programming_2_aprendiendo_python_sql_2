{
 "cells": [
  {
   "cell_type": "code",
   "execution_count": 3,
   "metadata": {},
   "outputs": [],
   "source": [
    "class Empleados:\n",
    "    def __init__(self, nombre, apellido, edad, posicion, año_inicio, vacaciones, herramientas):\n",
    "       self.nombre = nombre\n",
    "       self.apellido = apellido \n",
    "       self.edad = edad\n",
    "       self.posicion= posicion\n",
    "       self.año_inicio = año_inicio\n",
    "       self.vacaciones= vacaciones\n",
    "       self.herramientas = herramientas\n",
    "\n",
    "    def descripcion(self):\n",
    "        return f\"El/Ella es {self.nombre, self.apellido}, {self.posicion}, quién lleva con nosotros en la empresa desde {self.año_inicio}.Además este año le quedan {self.vacaciones} días de vacaciones\"\n",
    "    def calculo_vacaciones (self):\n",
    "        vacaciones_solicitadas = int(input(\"Cuántos días te quieres ir de vacaciones?\"))\n",
    "        if self.vacaciones == 0:\n",
    "            return \"Se acabaron las vacaciones\"\n",
    "        elif vacaciones_solicitadas >= self.vacaciones:\n",
    "            return \"No te puedes ir tantos días de vacaciones\"\n",
    "        else:\n",
    "            return f\"Aún puedes disfrutar de {vacaciones_solicitadas}\" \n",
    "    def cambio_posicion (self):\n",
    "        if self.herramientas == \"Python\":\n",
    "            return \"Bien hecho!\"\n",
    "        elif self.herramientas == \"Excel\":\n",
    "            return \"Deja Excel y empieza a usar Python :)\"\n",
    "    \n",
    "        "
   ]
  },
  {
   "cell_type": "code",
   "execution_count": 6,
   "metadata": {},
   "outputs": [],
   "source": [
    "empleada1 = Empleados(\"Lorena\", \"Torres\", 30, \"Analista de Datos\", 2020, 30, \"Excel\")"
   ]
  },
  {
   "cell_type": "code",
   "execution_count": 10,
   "metadata": {},
   "outputs": [
    {
     "name": "stdout",
     "output_type": "stream",
     "text": [
      "Lorena Torres 30 Analista de Datos 2020 30 Excel\n"
     ]
    }
   ],
   "source": [
    "print(empleada1.nombre, empleada1.apellido, empleada1.edad, empleada1.posicion, empleada1.año_inicio, empleada1.vacaciones, empleada1.herramientas)"
   ]
  },
  {
   "cell_type": "code",
   "execution_count": 11,
   "metadata": {},
   "outputs": [
    {
     "data": {
      "text/plain": [
       "'Aún puedes disfrutar de 15'"
      ]
     },
     "execution_count": 11,
     "metadata": {},
     "output_type": "execute_result"
    }
   ],
   "source": [
    "empleada1.calculo_vacaciones()"
   ]
  },
  {
   "cell_type": "code",
   "execution_count": 12,
   "metadata": {},
   "outputs": [
    {
     "data": {
      "text/plain": [
       "'Deja Excel y empieza a usar Python :)'"
      ]
     },
     "execution_count": 12,
     "metadata": {},
     "output_type": "execute_result"
    }
   ],
   "source": [
    "empleada1.cambio_posicion()"
   ]
  }
 ],
 "metadata": {
  "kernelspec": {
   "display_name": "base",
   "language": "python",
   "name": "python3"
  },
  "language_info": {
   "codemirror_mode": {
    "name": "ipython",
    "version": 3
   },
   "file_extension": ".py",
   "mimetype": "text/x-python",
   "name": "python",
   "nbconvert_exporter": "python",
   "pygments_lexer": "ipython3",
   "version": "3.9.7"
  },
  "orig_nbformat": 4
 },
 "nbformat": 4,
 "nbformat_minor": 2
}
