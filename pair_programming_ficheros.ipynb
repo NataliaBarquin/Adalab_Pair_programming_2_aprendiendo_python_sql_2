{
 "cells": [
  {
   "attachments": {},
   "cell_type": "markdown",
   "metadata": {},
   "source": [
    "### EJERCICIO 1"
   ]
  },
  {
   "cell_type": "code",
   "execution_count": 34,
   "metadata": {},
   "outputs": [],
   "source": [
    "def ficheros_1():\n",
    "    import os\n",
    "    carpeta_trabajo = os.getcwd()\n",
    "    os.mkdir('aprendiendo_ficheros')\n",
    "    lista_ficheros = os.listdir()\n",
    "\n",
    "    if 'aprendiendo_ficheros' in lista_ficheros:\n",
    "        print('Esta carpeta ya existe')\n",
    "    else:\n",
    "       os.mkdir('aprendiendo_ficheros')\n",
    "\n",
    "    os.chdir('aprendiendo_ficheros')\n",
    "    \n",
    "    if 'datos' in os.listdir():\n",
    "        print('Esta carpeta ya existe')\n",
    "    else:\n",
    "        os.mkdir('datos')\n",
    "\n",
    "    os.chdir('../')\n",
    "\n",
    "    os.rename('aprendiendo_ficheros', 'primera_toma_contacto')"
   ]
  },
  {
   "attachments": {},
   "cell_type": "markdown",
   "metadata": {},
   "source": [
    "##### Pasos a seguir"
   ]
  },
  {
   "cell_type": "code",
   "execution_count": 35,
   "metadata": {},
   "outputs": [],
   "source": [
    "import os"
   ]
  },
  {
   "cell_type": "code",
   "execution_count": 36,
   "metadata": {},
   "outputs": [],
   "source": [
    "carpeta_trabajo = os.getcwd()"
   ]
  },
  {
   "cell_type": "code",
   "execution_count": 39,
   "metadata": {},
   "outputs": [
    {
     "data": {
      "text/plain": [
       "'/home/natalia/ADALAB/1_MODULO1/Pair_programing/promoE-da-modulo1-sprint2-pair_programming-Yency_Natalia_Ana/primera_toma_contacto/datos'"
      ]
     },
     "execution_count": 39,
     "metadata": {},
     "output_type": "execute_result"
    }
   ],
   "source": [
    "os.getcwd()"
   ]
  },
  {
   "cell_type": "code",
   "execution_count": 37,
   "metadata": {},
   "outputs": [
    {
     "data": {
      "text/plain": [
       "'/home/natalia/ADALAB/1_MODULO1/Pair_programing/promoE-da-modulo1-sprint2-pair_programming-Yency_Natalia_Ana/primera_toma_contacto/datos'"
      ]
     },
     "execution_count": 37,
     "metadata": {},
     "output_type": "execute_result"
    }
   ],
   "source": [
    "carpeta_trabajo"
   ]
  },
  {
   "cell_type": "code",
   "execution_count": 38,
   "metadata": {},
   "outputs": [],
   "source": [
    "os.mkdir('aprendiendo_ficheros')"
   ]
  },
  {
   "cell_type": "code",
   "execution_count": 7,
   "metadata": {},
   "outputs": [
    {
     "data": {
      "text/plain": [
       "['.git',\n",
       " 'pair_programing_funciones_argumento.ipynb',\n",
       " 'aprendiendo_ficheros',\n",
       " 'pair_programming_clases_python.ipynb',\n",
       " 'saludo.txt',\n",
       " 'pair_programming_consultas_avanzas_2sql.sql',\n",
       " 'pair_programming_SQL_consultasmult2.sql',\n",
       " 'pair_programming_funciones_intro.ipynb',\n",
       " 'pair_programmin_SQL_multtablas1.sql',\n",
       " 'pair_programming_ficheros.ipynb']"
      ]
     },
     "execution_count": 7,
     "metadata": {},
     "output_type": "execute_result"
    }
   ],
   "source": [
    "lista_ficheros = os.listdir()\n",
    "lista_ficheros"
   ]
  },
  {
   "cell_type": "code",
   "execution_count": 8,
   "metadata": {},
   "outputs": [
    {
     "name": "stdout",
     "output_type": "stream",
     "text": [
      "Esta carpeta ya existe\n"
     ]
    }
   ],
   "source": [
    "if 'aprendiendo_ficheros' in lista_ficheros:\n",
    "    print('Esta carpeta ya existe')\n",
    "else:\n",
    "    os.mkdir('aprendiendo_ficheros')"
   ]
  },
  {
   "cell_type": "code",
   "execution_count": 9,
   "metadata": {},
   "outputs": [],
   "source": [
    "os.chdir('aprendiendo_ficheros')"
   ]
  },
  {
   "cell_type": "code",
   "execution_count": 10,
   "metadata": {},
   "outputs": [
    {
     "data": {
      "text/plain": [
       "'/home/natalia/ADALAB/1_MODULO1/Pair_programing/promoE-da-modulo1-sprint2-pair_programming-Yency_Natalia_Ana/aprendiendo_ficheros'"
      ]
     },
     "execution_count": 10,
     "metadata": {},
     "output_type": "execute_result"
    }
   ],
   "source": [
    "os.getcwd() #comprobamos en dónde estamos"
   ]
  },
  {
   "cell_type": "code",
   "execution_count": 12,
   "metadata": {},
   "outputs": [],
   "source": [
    "if 'datos' in os.listdir():\n",
    "    print('Esta carpeta ya existe')\n",
    "else:\n",
    "    os.mkdir('datos')"
   ]
  },
  {
   "cell_type": "code",
   "execution_count": 13,
   "metadata": {},
   "outputs": [
    {
     "data": {
      "text/plain": [
       "['datos']"
      ]
     },
     "execution_count": 13,
     "metadata": {},
     "output_type": "execute_result"
    }
   ],
   "source": [
    "os.listdir()"
   ]
  },
  {
   "cell_type": "code",
   "execution_count": 14,
   "metadata": {},
   "outputs": [],
   "source": [
    "os.chdir('../') #salimos a la carpeta anterior"
   ]
  },
  {
   "cell_type": "code",
   "execution_count": 15,
   "metadata": {},
   "outputs": [
    {
     "data": {
      "text/plain": [
       "'/home/natalia/ADALAB/1_MODULO1/Pair_programing/promoE-da-modulo1-sprint2-pair_programming-Yency_Natalia_Ana'"
      ]
     },
     "execution_count": 15,
     "metadata": {},
     "output_type": "execute_result"
    }
   ],
   "source": [
    "os.getcwd()"
   ]
  },
  {
   "cell_type": "code",
   "execution_count": 16,
   "metadata": {},
   "outputs": [],
   "source": [
    "os.rename('aprendiendo_ficheros', 'primera_toma_contacto')"
   ]
  },
  {
   "cell_type": "code",
   "execution_count": 31,
   "metadata": {},
   "outputs": [
    {
     "data": {
      "text/plain": [
       "['saludo.txt']"
      ]
     },
     "execution_count": 31,
     "metadata": {},
     "output_type": "execute_result"
    }
   ],
   "source": [
    "os.listdir()"
   ]
  },
  {
   "attachments": {},
   "cell_type": "markdown",
   "metadata": {},
   "source": [
    "### EJERCICIO 2"
   ]
  },
  {
   "cell_type": "code",
   "execution_count": null,
   "metadata": {},
   "outputs": [],
   "source": [
    "#chat zoom clase\n",
    "\n",
    "for hijo in root:\n",
    "    print(hijo.tag)\n",
    "    print(\"---------------\")\n",
    "    for nieto in hijo:\n",
    "        print(nieto.tag)\n",
    "        print(\".............\")\n",
    "        if nieto.tag == \"rgb\":\n",
    "            for bisnieto in nieto:\n",
    "                print(bisnieto.tag)\n",
    "                print(\"**********\")\n",
    "        else:\n",
    "            pass"
   ]
  },
  {
   "cell_type": "code",
   "execution_count": 30,
   "metadata": {},
   "outputs": [
    {
     "data": {
      "text/plain": [
       "'/home/natalia/ADALAB/1_MODULO1/Pair_programing/promoE-da-modulo1-sprint2-pair_programming-Yency_Natalia_Ana/primera_toma_contacto/datos'"
      ]
     },
     "execution_count": 30,
     "metadata": {},
     "output_type": "execute_result"
    }
   ],
   "source": [
    "os.getcwd()"
   ]
  },
  {
   "cell_type": "code",
   "execution_count": 33,
   "metadata": {},
   "outputs": [
    {
     "ename": "FileNotFoundError",
     "evalue": "[Errno 2] No such file or directory: 'primera_toma_contacto'",
     "output_type": "error",
     "traceback": [
      "\u001b[0;31m---------------------------------------------------------------------------\u001b[0m",
      "\u001b[0;31mFileNotFoundError\u001b[0m                         Traceback (most recent call last)",
      "Cell \u001b[0;32mIn[33], line 1\u001b[0m\n\u001b[0;32m----> 1\u001b[0m os\u001b[39m.\u001b[39;49mchdir(\u001b[39m'\u001b[39;49m\u001b[39mprimera_toma_contacto\u001b[39;49m\u001b[39m'\u001b[39;49m)\n",
      "\u001b[0;31mFileNotFoundError\u001b[0m: [Errno 2] No such file or directory: 'primera_toma_contacto'"
     ]
    }
   ],
   "source": [
    "os.chdir('primera_toma_contacto')"
   ]
  },
  {
   "cell_type": "code",
   "execution_count": 29,
   "metadata": {},
   "outputs": [
    {
     "ename": "FileNotFoundError",
     "evalue": "[Errno 2] No such file or directory: 'datos'",
     "output_type": "error",
     "traceback": [
      "\u001b[0;31m---------------------------------------------------------------------------\u001b[0m",
      "\u001b[0;31mFileNotFoundError\u001b[0m                         Traceback (most recent call last)",
      "Cell \u001b[0;32mIn[29], line 1\u001b[0m\n\u001b[0;32m----> 1\u001b[0m os\u001b[39m.\u001b[39;49mchdir(\u001b[39m'\u001b[39;49m\u001b[39mdatos\u001b[39;49m\u001b[39m'\u001b[39;49m)\n",
      "\u001b[0;31mFileNotFoundError\u001b[0m: [Errno 2] No such file or directory: 'datos'"
     ]
    }
   ],
   "source": [
    "os.chdir('datos')"
   ]
  },
  {
   "cell_type": "code",
   "execution_count": 26,
   "metadata": {},
   "outputs": [
    {
     "data": {
      "text/plain": [
       "'/home/natalia/ADALAB/1_MODULO1/Pair_programing/promoE-da-modulo1-sprint2-pair_programming-Yency_Natalia_Ana/primera_toma_contacto/datos'"
      ]
     },
     "execution_count": 26,
     "metadata": {},
     "output_type": "execute_result"
    }
   ],
   "source": [
    "os.getcwd()"
   ]
  }
 ],
 "metadata": {
  "kernelspec": {
   "display_name": "adalabenv",
   "language": "python",
   "name": "python3"
  },
  "language_info": {
   "codemirror_mode": {
    "name": "ipython",
    "version": 3
   },
   "file_extension": ".py",
   "mimetype": "text/x-python",
   "name": "python",
   "nbconvert_exporter": "python",
   "pygments_lexer": "ipython3",
   "version": "3.10.11"
  },
  "orig_nbformat": 4
 },
 "nbformat": 4,
 "nbformat_minor": 2
}
