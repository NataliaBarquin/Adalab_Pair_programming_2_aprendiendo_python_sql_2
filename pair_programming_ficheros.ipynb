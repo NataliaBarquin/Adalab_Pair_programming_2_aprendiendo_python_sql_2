{
 "cells": [
  {
   "attachments": {},
   "cell_type": "markdown",
   "metadata": {},
   "source": [
    "### EJERCICIO 1"
   ]
  },
  {
   "cell_type": "code",
   "execution_count": 1,
   "metadata": {},
   "outputs": [],
   "source": [
    "def ficheros_1():\n",
    "    import os\n",
    "    carpeta_trabajo = os.getcwd()\n",
    "    os.mkdir('aprendiendo_ficheros')\n",
    "    lista_ficheros = os.listdir()\n",
    "\n",
    "    if 'aprendiendo_ficheros' in lista_ficheros:\n",
    "        print('Esta carpeta ya existe')\n",
    "    else:\n",
    "       os.mkdir('aprendiendo_ficheros')\n",
    "\n",
    "    os.chdir('aprendiendo_ficheros')\n",
    "    \n",
    "    if 'datos' in os.listdir():\n",
    "        print('Esta carpeta ya existe')\n",
    "    else:\n",
    "        os.mkdir('datos')\n",
    "\n",
    "    os.chdir('../')\n",
    "\n",
    "    os.rename('aprendiendo_ficheros', 'primera_toma_contacto')"
   ]
  },
  {
   "attachments": {},
   "cell_type": "markdown",
   "metadata": {},
   "source": [
    "##### Pasos a seguir"
   ]
  },
  {
   "cell_type": "code",
   "execution_count": 2,
   "metadata": {},
   "outputs": [],
   "source": [
    "import os"
   ]
  },
  {
   "cell_type": "code",
   "execution_count": 3,
   "metadata": {},
   "outputs": [],
   "source": [
    "carpeta_trabajo = os.getcwd()"
   ]
  },
  {
   "cell_type": "code",
   "execution_count": 4,
   "metadata": {},
   "outputs": [
    {
     "data": {
      "text/plain": [
       "'/home/natalia/ADALAB/1_MODULO1/Pair_programing/promoE-da-modulo1-sprint2-pair_programming-Yency_Natalia_Ana'"
      ]
     },
     "execution_count": 4,
     "metadata": {},
     "output_type": "execute_result"
    }
   ],
   "source": [
    "os.getcwd()"
   ]
  },
  {
   "cell_type": "code",
   "execution_count": 5,
   "metadata": {},
   "outputs": [
    {
     "data": {
      "text/plain": [
       "'/home/natalia/ADALAB/1_MODULO1/Pair_programing/promoE-da-modulo1-sprint2-pair_programming-Yency_Natalia_Ana'"
      ]
     },
     "execution_count": 5,
     "metadata": {},
     "output_type": "execute_result"
    }
   ],
   "source": [
    "carpeta_trabajo"
   ]
  },
  {
   "cell_type": "code",
   "execution_count": 6,
   "metadata": {},
   "outputs": [],
   "source": [
    "os.mkdir('aprendiendo_ficheros')"
   ]
  },
  {
   "cell_type": "code",
   "execution_count": 7,
   "metadata": {},
   "outputs": [
    {
     "data": {
      "text/plain": [
       "['pair_programming_SQL_consultasmult3.sql',\n",
       " '.git',\n",
       " 'pair_programing_funciones_argumento.ipynb',\n",
       " 'aprendiendo_ficheros',\n",
       " 'primera_toma_contacto',\n",
       " 'pair_programming_clases_python.ipynb',\n",
       " 'pair_programming_consultas_avanzas_2sql.sql',\n",
       " 'pair_programming_SQL_consultasmult2.sql',\n",
       " 'pair_programming_funciones_intro.ipynb',\n",
       " 'pair_programmin_SQL_multtablas1.sql',\n",
       " 'pair_programming_ficheros.ipynb']"
      ]
     },
     "execution_count": 7,
     "metadata": {},
     "output_type": "execute_result"
    }
   ],
   "source": [
    "lista_ficheros = os.listdir()\n",
    "lista_ficheros"
   ]
  },
  {
   "cell_type": "code",
   "execution_count": 8,
   "metadata": {},
   "outputs": [
    {
     "name": "stdout",
     "output_type": "stream",
     "text": [
      "Esta carpeta ya existe\n"
     ]
    }
   ],
   "source": [
    "if 'aprendiendo_ficheros' in lista_ficheros:\n",
    "    print('Esta carpeta ya existe')\n",
    "else:\n",
    "    os.mkdir('aprendiendo_ficheros')"
   ]
  },
  {
   "cell_type": "code",
   "execution_count": 9,
   "metadata": {},
   "outputs": [],
   "source": [
    "os.chdir('aprendiendo_ficheros')"
   ]
  },
  {
   "cell_type": "code",
   "execution_count": 10,
   "metadata": {},
   "outputs": [
    {
     "data": {
      "text/plain": [
       "'/home/natalia/ADALAB/1_MODULO1/Pair_programing/promoE-da-modulo1-sprint2-pair_programming-Yency_Natalia_Ana/aprendiendo_ficheros'"
      ]
     },
     "execution_count": 10,
     "metadata": {},
     "output_type": "execute_result"
    }
   ],
   "source": [
    "os.getcwd() #comprobamos en dónde estamos"
   ]
  },
  {
   "cell_type": "code",
   "execution_count": 11,
   "metadata": {},
   "outputs": [],
   "source": [
    "if 'datos' in os.listdir():\n",
    "    print('Esta carpeta ya existe')\n",
    "else:\n",
    "    os.mkdir('datos')"
   ]
  },
  {
   "cell_type": "code",
   "execution_count": 12,
   "metadata": {},
   "outputs": [
    {
     "data": {
      "text/plain": [
       "['datos']"
      ]
     },
     "execution_count": 12,
     "metadata": {},
     "output_type": "execute_result"
    }
   ],
   "source": [
    "os.listdir()"
   ]
  },
  {
   "cell_type": "code",
   "execution_count": 13,
   "metadata": {},
   "outputs": [],
   "source": [
    "os.chdir('../') #salimos a la carpeta anterior"
   ]
  },
  {
   "cell_type": "code",
   "execution_count": 14,
   "metadata": {},
   "outputs": [
    {
     "data": {
      "text/plain": [
       "'/home/natalia/ADALAB/1_MODULO1/Pair_programing/promoE-da-modulo1-sprint2-pair_programming-Yency_Natalia_Ana'"
      ]
     },
     "execution_count": 14,
     "metadata": {},
     "output_type": "execute_result"
    }
   ],
   "source": [
    "os.getcwd()"
   ]
  },
  {
   "cell_type": "code",
   "execution_count": 15,
   "metadata": {},
   "outputs": [
    {
     "ename": "OSError",
     "evalue": "[Errno 39] Directory not empty: 'aprendiendo_ficheros' -> 'primera_toma_contacto'",
     "output_type": "error",
     "traceback": [
      "\u001b[0;31m---------------------------------------------------------------------------\u001b[0m",
      "\u001b[0;31mOSError\u001b[0m                                   Traceback (most recent call last)",
      "Cell \u001b[0;32mIn[15], line 1\u001b[0m\n\u001b[0;32m----> 1\u001b[0m os\u001b[39m.\u001b[39;49mrename(\u001b[39m'\u001b[39;49m\u001b[39maprendiendo_ficheros\u001b[39;49m\u001b[39m'\u001b[39;49m, \u001b[39m'\u001b[39;49m\u001b[39mprimera_toma_contacto\u001b[39;49m\u001b[39m'\u001b[39;49m)\n",
      "\u001b[0;31mOSError\u001b[0m: [Errno 39] Directory not empty: 'aprendiendo_ficheros' -> 'primera_toma_contacto'"
     ]
    }
   ],
   "source": [
    "os.rename('aprendiendo_ficheros', 'primera_toma_contacto')"
   ]
  },
  {
   "cell_type": "code",
   "execution_count": null,
   "metadata": {},
   "outputs": [
    {
     "data": {
      "text/plain": [
       "['saludo.txt']"
      ]
     },
     "execution_count": 31,
     "metadata": {},
     "output_type": "execute_result"
    }
   ],
   "source": [
    "os.listdir()"
   ]
  },
  {
   "attachments": {},
   "cell_type": "markdown",
   "metadata": {},
   "source": [
    "### EJERCICIO 2"
   ]
  },
  {
   "cell_type": "code",
   "execution_count": 18,
   "metadata": {},
   "outputs": [
    {
     "data": {
      "text/plain": [
       "'/home/natalia/ADALAB/1_MODULO1/Pair_programing/promoE-da-modulo1-sprint2-pair_programming-Yency_Natalia_Ana'"
      ]
     },
     "execution_count": 18,
     "metadata": {},
     "output_type": "execute_result"
    }
   ],
   "source": [
    "os.getcwd()"
   ]
  },
  {
   "cell_type": "code",
   "execution_count": 19,
   "metadata": {},
   "outputs": [],
   "source": [
    "os.chdir('primera_toma_contacto')"
   ]
  },
  {
   "cell_type": "code",
   "execution_count": 20,
   "metadata": {},
   "outputs": [],
   "source": [
    "os.chdir('datos')"
   ]
  },
  {
   "cell_type": "code",
   "execution_count": 21,
   "metadata": {},
   "outputs": [
    {
     "data": {
      "text/plain": [
       "'/home/natalia/ADALAB/1_MODULO1/Pair_programing/promoE-da-modulo1-sprint2-pair_programming-Yency_Natalia_Ana/primera_toma_contacto/datos'"
      ]
     },
     "execution_count": 21,
     "metadata": {},
     "output_type": "execute_result"
    }
   ],
   "source": [
    "os.getcwd()"
   ]
  },
  {
   "cell_type": "code",
   "execution_count": 22,
   "metadata": {},
   "outputs": [],
   "source": [
    "with open(\"saludo.txt\", 'r') as archivo: # Abre el archivo en modo lectura\n",
    "    contenido = archivo.readlines() # Lee el contenido completo del archivo"
   ]
  },
  {
   "cell_type": "code",
   "execution_count": 37,
   "metadata": {},
   "outputs": [],
   "source": [
    "def ficheros_2():\n",
    "    for linea in contenido:\n",
    "        print(linea.strip()) # Muestra la línea 4 del archivo\n",
    "    if len(contenido) >= 4:\n",
    "        linea_4 = contenido[3]  # Los índices de las listas en Python comienzan en 0\n",
    "        print(\"Línea 4:\", linea_4.strip())\n",
    "    else:\n",
    "        pass\n"
   ]
  },
  {
   "cell_type": "code",
   "execution_count": 38,
   "metadata": {},
   "outputs": [
    {
     "name": "stdout",
     "output_type": "stream",
     "text": [
      "<function ficheros_2 at 0x7fd298139480>\n"
     ]
    }
   ],
   "source": [
    "print(ficheros_2)"
   ]
  }
 ],
 "metadata": {
  "kernelspec": {
   "display_name": "adalabenv",
   "language": "python",
   "name": "python3"
  },
  "language_info": {
   "codemirror_mode": {
    "name": "ipython",
    "version": 3
   },
   "file_extension": ".py",
   "mimetype": "text/x-python",
   "name": "python",
   "nbconvert_exporter": "python",
   "pygments_lexer": "ipython3",
   "version": "3.10.11"
  },
  "orig_nbformat": 4
 },
 "nbformat": 4,
 "nbformat_minor": 2
}
