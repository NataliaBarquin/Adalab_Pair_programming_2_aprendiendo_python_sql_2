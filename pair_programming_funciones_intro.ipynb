{
 "cells": [
  {
   "cell_type": "code",
   "execution_count": 6,
   "metadata": {},
   "outputs": [
    {
     "name": "stdout",
     "output_type": "stream",
     "text": [
      "9\n",
      "39\n",
      "0\n",
      "2\n",
      "-2\n"
     ]
    }
   ],
   "source": [
    "def sumar_numeros_enteros(num1, num2):\n",
    "    if num1 == '' and num2 == '': \n",
    "        return '0'\n",
    "    elif num1 == '':\n",
    "        return num2\n",
    "    elif num2 == '':\n",
    "        return num1\n",
    "    else:\n",
    "        resultado_suma = int(num1) + int(num2)\n",
    "        return (resultado_suma)\n",
    "\n",
    "print(sumar_numeros_enteros('4', '5'))\n",
    "print(sumar_numeros_enteros('34', '5'))\n",
    "print(sumar_numeros_enteros('', ''))\n",
    "print(sumar_numeros_enteros('2', ''))\n",
    "print(sumar_numeros_enteros('-5', '3'))\n"
   ]
  },
  {
   "cell_type": "code",
   "execution_count": 12,
   "metadata": {},
   "outputs": [
    {
     "data": {
      "text/plain": [
       "[23, 64, 53, 17, 88]"
      ]
     },
     "execution_count": 12,
     "metadata": {},
     "output_type": "execute_result"
    }
   ],
   "source": [
    "def comparacion_enteros(lista1, lista2):\n",
    "    resultado_zip = [max(x, y) for x, y in zip(lista1, lista2)] \n",
    "    return resultado_zip\n",
    "\n",
    "arr1 = [13, 64, 15, 17, 88]\n",
    "arr2 = [23, 14, 53, 17, 80]\n",
    "\n",
    "comparacion_enteros(arr1, arr2)"
   ]
  },
  {
   "cell_type": "code",
   "execution_count": 2,
   "metadata": {},
   "outputs": [
    {
     "name": "stdout",
     "output_type": "stream",
     "text": [
      "(((\n",
      "()()()\n",
      ")())())\n",
      "))((\n",
      "((()(()()))))(()(\n"
     ]
    }
   ],
   "source": [
    "def convertir_caracteres(cadena):\n",
    "    cadena = cadena.lower()  # Convertir toda la cadena a minúsculas\n",
    "    resultado = \"\"\n",
    "    \n",
    "    for caracter in cadena:\n",
    "        if cadena.count(caracter) > 1:\n",
    "            resultado += \")\"\n",
    "        else:\n",
    "            resultado += \"(\"\n",
    "    \n",
    "    return resultado\n",
    "\n",
    "print(convertir_caracteres('dni'))\n",
    "print(convertir_caracteres('recede'))\n",
    "print(convertir_caracteres('Success'))\n",
    "print(convertir_caracteres('(( @'))\n",
    "print(convertir_caracteres('Ocvl@GamFLAFkixkS'))"
   ]
  }
 ],
 "metadata": {
  "kernelspec": {
   "display_name": "adalabenv",
   "language": "python",
   "name": "python3"
  },
  "language_info": {
   "codemirror_mode": {
    "name": "ipython",
    "version": 3
   },
   "file_extension": ".py",
   "mimetype": "text/x-python",
   "name": "python",
   "nbconvert_exporter": "python",
   "pygments_lexer": "ipython3",
   "version": "3.10.11"
  },
  "orig_nbformat": 4
 },
 "nbformat": 4,
 "nbformat_minor": 2
}
